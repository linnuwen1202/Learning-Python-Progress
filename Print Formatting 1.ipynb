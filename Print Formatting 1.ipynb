{
 "cells": [
  {
   "cell_type": "code",
   "execution_count": 2,
   "metadata": {
    "collapsed": false
   },
   "outputs": [
    {
     "name": "stdout",
     "output_type": "stream",
     "text": [
      "this is  a string\n"
     ]
    }
   ],
   "source": [
    "print ('this is  a string')"
   ]
  },
  {
   "cell_type": "code",
   "execution_count": 14,
   "metadata": {
    "collapsed": false
   },
   "outputs": [
    {
     "name": "stdout",
     "output_type": "stream",
     "text": [
      "we can place a string inside a string by using a mod and s: 9.9\n"
     ]
    }
   ],
   "source": [
    "x=9.9\n",
    "print (\"we can place a string inside a string by using a mod and s: %s\" %x)"
   ]
  },
  {
   "cell_type": "code",
   "execution_count": 15,
   "metadata": {
    "collapsed": true
   },
   "outputs": [],
   "source": [
    "#%x1.x2f"
   ]
  },
  {
   "cell_type": "code",
   "execution_count": 16,
   "metadata": {
    "collapsed": false
   },
   "outputs": [
    {
     "name": "stdout",
     "output_type": "stream",
     "text": [
      "this is a floating number: 14.23\n"
     ]
    }
   ],
   "source": [
    "print (\"this is a floating number: %1.2f\" %14.234)"
   ]
  },
  {
   "cell_type": "code",
   "execution_count": 17,
   "metadata": {
    "collapsed": false
   },
   "outputs": [
    {
     "name": "stdout",
     "output_type": "stream",
     "text": [
      "this is a floating number: 14\n"
     ]
    }
   ],
   "source": [
    "print (\"this is a floating number: %1.0f\" %14.234)"
   ]
  },
  {
   "cell_type": "code",
   "execution_count": 18,
   "metadata": {
    "collapsed": false
   },
   "outputs": [
    {
     "name": "stdout",
     "output_type": "stream",
     "text": [
      "this is a floating number: 14.23400\n"
     ]
    }
   ],
   "source": [
    "print (\"this is a floating number: %1.5f\" %14.234)"
   ]
  },
  {
   "cell_type": "code",
   "execution_count": 19,
   "metadata": {
    "collapsed": false
   },
   "outputs": [
    {
     "name": "stdout",
     "output_type": "stream",
     "text": [
      "this is a floating number:   14.23\n"
     ]
    }
   ],
   "source": [
    "print (\"this is a floating number: %7.2f\" %14.234)"
   ]
  },
  {
   "cell_type": "code",
   "execution_count": 21,
   "metadata": {
    "collapsed": false
   },
   "outputs": [
    {
     "name": "stdout",
     "output_type": "stream",
     "text": [
      "this is a floating number: 14.23\n"
     ]
    }
   ],
   "source": [
    "print (\"this is a floating number: %2.2f\" %14.234)"
   ]
  },
  {
   "cell_type": "code",
   "execution_count": 22,
   "metadata": {
    "collapsed": false
   },
   "outputs": [
    {
     "name": "stdout",
     "output_type": "stream",
     "text": [
      "this is a floating number: 14.234000000\n"
     ]
    }
   ],
   "source": [
    "print (\"this is a floating number: %7.9f\" %14.234)"
   ]
  },
  {
   "cell_type": "code",
   "execution_count": 23,
   "metadata": {
    "collapsed": true
   },
   "outputs": [],
   "source": [
    "#%s %r str() and repr()"
   ]
  },
  {
   "cell_type": "code",
   "execution_count": 34,
   "metadata": {
    "collapsed": false,
    "scrolled": true
   },
   "outputs": [
    {
     "name": "stdout",
     "output_type": "stream",
     "text": [
      "I have one number: '14.5'. then i have another number: '14.5'\n"
     ]
    }
   ],
   "source": [
    "print (\"I have one number: '%s'. then i have another number: '%s'\" % (14.5, 14.5))"
   ]
  },
  {
   "cell_type": "code",
   "execution_count": 33,
   "metadata": {
    "collapsed": false
   },
   "outputs": [
    {
     "name": "stdout",
     "output_type": "stream",
     "text": [
      "i have one number here: 23.5. Then, i have a string here: 'hey'\n"
     ]
    }
   ],
   "source": [
    "print ('i have one number here: %s. Then, i have a string here: %r' %(23.5, 'hey'))"
   ]
  },
  {
   "cell_type": "code",
   "execution_count": null,
   "metadata": {
    "collapsed": true
   },
   "outputs": [],
   "source": [
    "#.format()'some string(val). i can add another val (val2)'. format(val1 = \"value1\", val2 = \"value2\")"
   ]
  },
  {
   "cell_type": "code",
   "execution_count": 35,
   "metadata": {
    "collapsed": false
   },
   "outputs": [
    {
     "name": "stdout",
     "output_type": "stream",
     "text": [
      "this is using the .format method (p)\n"
     ]
    }
   ],
   "source": [
    "print ('this is using the .for{mat method (p)'. format(p= 'put a value'}))"
   ]
  },
  {
   "cell_type": "code",
   "execution_count": 40,
   "metadata": {
    "collapsed": false
   },
   "outputs": [
    {
     "name": "stdout",
     "output_type": "stream",
     "text": [
      "FirstName: linh, LastName: nguyen\n"
     ]
    }
   ],
   "source": [
    "print ('FirstName: {p1}, LastName: {p2}'.format(p1 = 'linh', p2= 'nguyen'))"
   ]
  },
  {
   "cell_type": "code",
   "execution_count": null,
   "metadata": {
    "collapsed": true
   },
   "outputs": [],
   "source": []
  },
  {
   "cell_type": "code",
   "execution_count": null,
   "metadata": {
    "collapsed": true
   },
   "outputs": [],
   "source": []
  },
  {
   "cell_type": "code",
   "execution_count": null,
   "metadata": {
    "collapsed": true
   },
   "outputs": [],
   "source": []
  }
 ],
 "metadata": {
  "kernelspec": {
   "display_name": "Python [Root]",
   "language": "python",
   "name": "Python [Root]"
  },
  "language_info": {
   "codemirror_mode": {
    "name": "ipython",
    "version": 3
   },
   "file_extension": ".py",
   "mimetype": "text/x-python",
   "name": "python",
   "nbconvert_exporter": "python",
   "pygments_lexer": "ipython3",
   "version": "3.5.2"
  }
 },
 "nbformat": 4,
 "nbformat_minor": 0
}
