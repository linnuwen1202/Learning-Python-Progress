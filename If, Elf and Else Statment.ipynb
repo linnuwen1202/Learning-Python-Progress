{
 "cells": [
  {
   "cell_type": "markdown",
   "metadata": {},
   "source": [
    "            Booleans "
   ]
  },
  {
   "cell_type": "code",
   "execution_count": 2,
   "metadata": {
    "collapsed": false
   },
   "outputs": [],
   "source": [
    "a = True"
   ]
  },
  {
   "cell_type": "code",
   "execution_count": 3,
   "metadata": {
    "collapsed": false
   },
   "outputs": [
    {
     "data": {
      "text/plain": [
       "True"
      ]
     },
     "execution_count": 3,
     "metadata": {},
     "output_type": "execute_result"
    }
   ],
   "source": [
    "a"
   ]
  },
  {
   "cell_type": "code",
   "execution_count": 4,
   "metadata": {
    "collapsed": false
   },
   "outputs": [
    {
     "data": {
      "text/plain": [
       "False"
      ]
     },
     "execution_count": 4,
     "metadata": {},
     "output_type": "execute_result"
    }
   ],
   "source": [
    "4 < 4"
   ]
  },
  {
   "cell_type": "code",
   "execution_count": 5,
   "metadata": {
    "collapsed": true
   },
   "outputs": [],
   "source": [
    "b = None"
   ]
  },
  {
   "cell_type": "code",
   "execution_count": 6,
   "metadata": {
    "collapsed": true
   },
   "outputs": [],
   "source": [
    "b"
   ]
  },
  {
   "cell_type": "markdown",
   "metadata": {},
   "source": [
    "            IF EIF ELSE"
   ]
  },
  {
   "cell_type": "code",
   "execution_count": 10,
   "metadata": {
    "collapsed": false
   },
   "outputs": [
    {
     "name": "stdout",
     "output_type": "stream",
     "text": [
      "x was not true\n"
     ]
    }
   ],
   "source": [
    "x = False\n",
    "\n",
    "if x:\n",
    "    print ('x was true')\n",
    "else:\n",
    "    print ('x was not true')"
   ]
  },
  {
   "cell_type": "code",
   "execution_count": 18,
   "metadata": {
    "collapsed": false
   },
   "outputs": [
    {
     "name": "stdout",
     "output_type": "stream",
     "text": [
      "movie was aviator\n"
     ]
    }
   ],
   "source": [
    "movie = 'aviator'\n",
    "\n",
    "if movie == 'departed':\n",
    "    print ('movie was departed')\n",
    "elif movie == 'aviator':\n",
    "    print ('movie was aviator')\n",
    "elif movie == 'some movie':\n",
    "    print ('movie was some movie')\n",
    "else:\n",
    "    print ('what was the movie?')"
   ]
  },
  {
   "cell_type": "code",
   "execution_count": 22,
   "metadata": {
    "collapsed": false
   },
   "outputs": [
    {
     "name": "stdout",
     "output_type": "stream",
     "text": [
      "Welcome Linh\n"
     ]
    }
   ],
   "source": [
    "person = 'linh'\n",
    "if person == 'tom':\n",
    "    print ('Welcome tom')\n",
    "elif person == 'linh':\n",
    "    print ('Welcome Linh')\n",
    "else:\n",
    "    print ('Welcome new person')"
   ]
  },
  {
   "cell_type": "code",
   "execution_count": 38,
   "metadata": {
    "collapsed": false
   },
   "outputs": [
    {
     "name": "stdout",
     "output_type": "stream",
     "text": [
      "value is between 50 and 100\n",
      "value is 97\n",
      "ending program now\n"
     ]
    }
   ],
   "source": [
    "var = 97\n",
    "\n",
    "if var < 200 and var >= 100: \n",
    "    print ('value is between 100 and 200')\n",
    "    \n",
    "    if var == 150:\n",
    "        print ('value is exactly 150')\n",
    "    elif var == 175:\n",
    "        print ('value is 175')\n",
    "    elif var == 197:\n",
    "        print ('value is 197')\n",
    "    else:\n",
    "        print (\"i don't exactly know the value\")\n",
    "    \n",
    "elif var > 50 and var < 100:\n",
    "    print ('value is between 50 and 100')\n",
    "    \n",
    "    if var == 56:\n",
    "        print ('value is exactly 56')\n",
    "    elif var == 75:\n",
    "        print ('value is 75')\n",
    "    elif var == 97:\n",
    "        print ('value is 97')\n",
    "    else:\n",
    "        print (\"i don't exactly know the value\")\n",
    "    \n",
    "else:\n",
    "    print ('value is not known')\n",
    "    \n",
    "print ('ending program now')"
   ]
  },
  {
   "cell_type": "code",
   "execution_count": null,
   "metadata": {
    "collapsed": true
   },
   "outputs": [],
   "source": []
  },
  {
   "cell_type": "code",
   "execution_count": null,
   "metadata": {
    "collapsed": true
   },
   "outputs": [],
   "source": []
  },
  {
   "cell_type": "code",
   "execution_count": null,
   "metadata": {
    "collapsed": true
   },
   "outputs": [],
   "source": []
  },
  {
   "cell_type": "code",
   "execution_count": null,
   "metadata": {
    "collapsed": true
   },
   "outputs": [],
   "source": []
  },
  {
   "cell_type": "code",
   "execution_count": null,
   "metadata": {
    "collapsed": true
   },
   "outputs": [],
   "source": []
  }
 ],
 "metadata": {
  "anaconda-cloud": {},
  "kernelspec": {
   "display_name": "Python [Root]",
   "language": "python",
   "name": "Python [Root]"
  },
  "language_info": {
   "codemirror_mode": {
    "name": "ipython",
    "version": 3
   },
   "file_extension": ".py",
   "mimetype": "text/x-python",
   "name": "python",
   "nbconvert_exporter": "python",
   "pygments_lexer": "ipython3",
   "version": "3.5.2"
  }
 },
 "nbformat": 4,
 "nbformat_minor": 0
}
